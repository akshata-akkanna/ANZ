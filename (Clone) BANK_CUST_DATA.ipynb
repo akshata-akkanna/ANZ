{
 "cells": [
  {
   "cell_type": "code",
   "execution_count": 0,
   "metadata": {
    "application/vnd.databricks.v1+cell": {
     "cellMetadata": {
      "byteLimit": 2048000,
      "rowLimit": 10000
     },
     "inputWidgets": {},
     "nuid": "5dce81aa-f49c-4178-be05-b8067694ce46",
     "showTitle": false,
     "tableResultSettingsMap": {},
     "title": ""
    }
   },
   "outputs": [],
   "source": [
    "from pyspark import SparkConf, SparkContext\n",
    "from pyspark.sql.functions import col, count, when, avg, sum\n",
    "import matplotlib.pyplot as plt\n",
    "import seaborn as sns\n",
    "import pandas as pd"
   ]
  },
  {
   "cell_type": "code",
   "execution_count": 0,
   "metadata": {
    "application/vnd.databricks.v1+cell": {
     "cellMetadata": {
      "byteLimit": 2048000,
      "rowLimit": 10000
     },
     "inputWidgets": {},
     "nuid": "8b08ec01-3761-4d78-ae14-4cff26e88b70",
     "showTitle": false,
     "tableResultSettingsMap": {},
     "title": ""
    }
   },
   "outputs": [],
   "source": [
    "from pyspark.sql import SparkSession\n",
    "\n",
    "# Get existing Spark session or create a new one if it doesn’t exist\n",
    "spark = SparkSession.getActiveSession()\n",
    "if spark is None:\n",
    "    spark = SparkSession.builder.appName(\"ANZ_Banking_Analysis\").getOrCreate()\n"
   ]
  },
  {
   "cell_type": "markdown",
   "metadata": {
    "application/vnd.databricks.v1+cell": {
     "cellMetadata": {},
     "inputWidgets": {},
     "nuid": "34f81bf2-7c31-4e11-8322-7d1475216f6f",
     "showTitle": false,
     "tableResultSettingsMap": {},
     "title": ""
    }
   },
   "source": [
    "**BRONZE LAYER**"
   ]
  },
  {
   "cell_type": "markdown",
   "metadata": {
    "application/vnd.databricks.v1+cell": {
     "cellMetadata": {},
     "inputWidgets": {},
     "nuid": "d1299478-4505-4842-8969-ecb3e9307119",
     "showTitle": false,
     "tableResultSettingsMap": {},
     "title": ""
    }
   },
   "source": [
    "Read the file"
   ]
  },
  {
   "cell_type": "code",
   "execution_count": 0,
   "metadata": {
    "application/vnd.databricks.v1+cell": {
     "cellMetadata": {
      "byteLimit": 2048000,
      "rowLimit": 10000
     },
     "inputWidgets": {},
     "nuid": "0d1baed9-2364-406e-9ab0-1e8c598f1f6a",
     "showTitle": false,
     "tableResultSettingsMap": {},
     "title": ""
    }
   },
   "outputs": [],
   "source": [
    "df = spark.sql(\"select * from data.default.anz\")"
   ]
  },
  {
   "cell_type": "code",
   "execution_count": 0,
   "metadata": {
    "application/vnd.databricks.v1+cell": {
     "cellMetadata": {
      "byteLimit": 2048000,
      "implicitDf": true,
      "rowLimit": 10000
     },
     "inputWidgets": {},
     "nuid": "1a5f677a-d344-493d-b0f4-da8352c2a706",
     "showTitle": false,
     "tableResultSettingsMap": {},
     "title": ""
    }
   },
   "outputs": [],
   "source": [
    "%sql\n",
    "desc data.default.anz"
   ]
  },
  {
   "cell_type": "code",
   "execution_count": 0,
   "metadata": {
    "application/vnd.databricks.v1+cell": {
     "cellMetadata": {
      "byteLimit": 2048000,
      "rowLimit": 10000
     },
     "inputWidgets": {},
     "nuid": "43f91312-d2f0-4260-9384-b0f14b83e332",
     "showTitle": false,
     "tableResultSettingsMap": {},
     "title": ""
    }
   },
   "outputs": [],
   "source": [
    "df.count()"
   ]
  },
  {
   "cell_type": "markdown",
   "metadata": {
    "application/vnd.databricks.v1+cell": {
     "cellMetadata": {},
     "inputWidgets": {},
     "nuid": "568b6a73-81d5-4e12-8351-67cf64e03ddc",
     "showTitle": false,
     "tableResultSettingsMap": {},
     "title": ""
    }
   },
   "source": [
    "**SILVER LAYER**"
   ]
  },
  {
   "cell_type": "markdown",
   "metadata": {
    "application/vnd.databricks.v1+cell": {
     "cellMetadata": {},
     "inputWidgets": {},
     "nuid": "599bce92-0309-4b5b-a497-e5e91131dd37",
     "showTitle": false,
     "tableResultSettingsMap": {},
     "title": ""
    }
   },
   "source": [
    "Ensure the dataset has the expected column names and data types.\n",
    "\n"
   ]
  },
  {
   "cell_type": "code",
   "execution_count": 0,
   "metadata": {
    "application/vnd.databricks.v1+cell": {
     "cellMetadata": {
      "byteLimit": 2048000,
      "rowLimit": 10000
     },
     "inputWidgets": {},
     "nuid": "ae23eda7-4af4-4aa5-a768-9ca5e3ecd651",
     "showTitle": false,
     "tableResultSettingsMap": {},
     "title": ""
    }
   },
   "outputs": [],
   "source": [
    "from pyspark.sql.types import StructType, StructField, StringType, IntegerType, DoubleType\n",
    "\n",
    "expected_schema = StructType([\n",
    "    StructField(\"customer_id\", StringType(), False),\n",
    "    StructField(\"age\", IntegerType(), True),\n",
    "    StructField(\"gender\", StringType(), True),\n",
    "    StructField(\"amount\", DoubleType(), True),\n",
    "    StructField(\"transaction_date\", StringType(), True),\n",
    "    StructField(\"merchant_name\", StringType(), True),\n",
    "    StructField(\"transaction_type\", StringType(), True)\n",
    "])\n",
    "\n",
    "# Validate schema\n",
    "actual_schema = df.schema\n",
    "if actual_schema != expected_schema:\n",
    "    print(\"⚠️ Schema Mismatch! Expected Schema:\")\n",
    "    df.printSchema()\n",
    "else:\n",
    "    print(\"✅ Schema is valid!\")"
   ]
  },
  {
   "cell_type": "markdown",
   "metadata": {
    "application/vnd.databricks.v1+cell": {
     "cellMetadata": {},
     "inputWidgets": {},
     "nuid": "08d0a082-d310-4a4b-8495-6d743fbf029f",
     "showTitle": false,
     "tableResultSettingsMap": {},
     "title": ""
    }
   },
   "source": [
    "Identify and handle null values\t"
   ]
  },
  {
   "cell_type": "code",
   "execution_count": 0,
   "metadata": {
    "application/vnd.databricks.v1+cell": {
     "cellMetadata": {
      "byteLimit": 2048000,
      "rowLimit": 10000
     },
     "inputWidgets": {},
     "nuid": "8434d79c-cd90-4fb3-b2ac-7ae045d33b29",
     "showTitle": false,
     "tableResultSettingsMap": {},
     "title": ""
    }
   },
   "outputs": [],
   "source": [
    "# Count missing values per column\n",
    "from pyspark.sql.functions import col, sum\n",
    "\n",
    "df.select([sum(col(c).isNull().cast(\"int\")).alias(c) for c in df.columns]).show()\n",
    "\n",
    "# Drop rows with missing customer_id (critical field)\n",
    "df_cleaned = df.dropna(subset=[\"customer_id\"])\n",
    "\n",
    "# Fill missing age with the median age\n",
    "from pyspark.sql.functions import expr\n",
    "median_age = df_cleaned.approxQuantile(\"age\", [0.5], 0.01)[0]\n",
    "df_cleaned = df_cleaned.fillna({\"age\": median_age})"
   ]
  },
  {
   "cell_type": "markdown",
   "metadata": {
    "application/vnd.databricks.v1+cell": {
     "cellMetadata": {},
     "inputWidgets": {},
     "nuid": "af745d07-d088-45d1-ae66-e6ef0e9158f0",
     "showTitle": false,
     "tableResultSettingsMap": {},
     "title": ""
    }
   },
   "source": [
    "Checking Data Integrity\n"
   ]
  },
  {
   "cell_type": "code",
   "execution_count": 0,
   "metadata": {
    "application/vnd.databricks.v1+cell": {
     "cellMetadata": {
      "byteLimit": 2048000,
      "rowLimit": 10000
     },
     "inputWidgets": {},
     "nuid": "1804253f-d2e8-4fa1-b093-ce9d779136a4",
     "showTitle": false,
     "tableResultSettingsMap": {},
     "title": ""
    }
   },
   "outputs": [],
   "source": [
    "# Check if customer_id is unique\n",
    "df_cleaned.groupBy(\"customer_id\").count().filter(\"count > 1\").show()"
   ]
  },
  {
   "cell_type": "code",
   "execution_count": 0,
   "metadata": {
    "application/vnd.databricks.v1+cell": {
     "cellMetadata": {
      "byteLimit": 2048000,
      "rowLimit": 10000
     },
     "inputWidgets": {},
     "nuid": "ce993e57-73a0-48b2-8fec-b2f271509cd6",
     "showTitle": false,
     "tableResultSettingsMap": {},
     "title": ""
    }
   },
   "outputs": [],
   "source": [
    "df_cleaned = df_cleaned.dropDuplicates([\"customer_id\"])\n"
   ]
  },
  {
   "cell_type": "markdown",
   "metadata": {
    "application/vnd.databricks.v1+cell": {
     "cellMetadata": {},
     "inputWidgets": {},
     "nuid": "03f95f83-4726-4dee-8397-c8ee2173515b",
     "showTitle": false,
     "tableResultSettingsMap": {},
     "title": ""
    }
   },
   "source": [
    "Detecting Duplicates"
   ]
  },
  {
   "cell_type": "code",
   "execution_count": 0,
   "metadata": {
    "application/vnd.databricks.v1+cell": {
     "cellMetadata": {
      "byteLimit": 2048000,
      "rowLimit": 10000
     },
     "inputWidgets": {},
     "nuid": "1d327499-7db1-4d8a-b069-db0afa958ef4",
     "showTitle": false,
     "tableResultSettingsMap": {},
     "title": ""
    }
   },
   "outputs": [],
   "source": [
    "df_cleaned.groupBy(df.columns).count().filter(\"count > 1\").show()\n",
    "df_cleaned = df_cleaned.dropDuplicates()\n"
   ]
  },
  {
   "cell_type": "markdown",
   "metadata": {
    "application/vnd.databricks.v1+cell": {
     "cellMetadata": {},
     "inputWidgets": {},
     "nuid": "64872969-65c1-4c57-b322-92aaf231b695",
     "showTitle": false,
     "tableResultSettingsMap": {},
     "title": ""
    }
   },
   "source": [
    "Outlier Detection"
   ]
  },
  {
   "cell_type": "code",
   "execution_count": 0,
   "metadata": {
    "application/vnd.databricks.v1+cell": {
     "cellMetadata": {
      "byteLimit": 2048000,
      "rowLimit": 10000
     },
     "inputWidgets": {},
     "nuid": "a640c7c1-44a7-4678-b0da-3c3617946ae1",
     "showTitle": false,
     "tableResultSettingsMap": {},
     "title": ""
    }
   },
   "outputs": [],
   "source": [
    "#Detect transactions with extreme amounts.\n",
    "# Calculate transaction amount quantiles\n",
    "percentiles = df_cleaned.approxQuantile(\"amount\", [0.01, 0.99], 0.01)\n",
    "lower, upper = percentiles[0], percentiles[1]\n",
    "\n",
    "# Filter out extreme transactions\n",
    "df_cleaned = df_cleaned.filter((col(\"amount\") >= lower) & (col(\"amount\") <= upper))\n",
    "display(df_cleaned)\n",
    "\n"
   ]
  },
  {
   "cell_type": "markdown",
   "metadata": {
    "application/vnd.databricks.v1+cell": {
     "cellMetadata": {},
     "inputWidgets": {},
     "nuid": "3f61b789-23c9-439f-b481-e675d37f3478",
     "showTitle": false,
     "tableResultSettingsMap": {},
     "title": ""
    }
   },
   "source": [
    "Save the Cleansed Data into the Table"
   ]
  },
  {
   "cell_type": "code",
   "execution_count": 0,
   "metadata": {
    "application/vnd.databricks.v1+cell": {
     "cellMetadata": {
      "byteLimit": 2048000,
      "rowLimit": 10000
     },
     "inputWidgets": {},
     "nuid": "8caa55da-26a5-40c4-9fc5-e426ac476602",
     "showTitle": false,
     "tableResultSettingsMap": {},
     "title": ""
    }
   },
   "outputs": [],
   "source": [
    "df_cleaned.write.mode(\"overwrite\").saveAsTable(\"data.default.anz_cleansed\")\n"
   ]
  },
  {
   "cell_type": "code",
   "execution_count": 0,
   "metadata": {
    "application/vnd.databricks.v1+cell": {
     "cellMetadata": {
      "byteLimit": 2048000,
      "rowLimit": 10000
     },
     "inputWidgets": {},
     "nuid": "592403e1-bf95-408a-acac-4e17dfa4e3ab",
     "showTitle": false,
     "tableResultSettingsMap": {},
     "title": ""
    }
   },
   "outputs": [],
   "source": [
    "df_cleaned = spark.sql(\"SELECT * FROM data.default.anz_cleansed\")\n",
    "display(df_cleaned)"
   ]
  },
  {
   "cell_type": "code",
   "execution_count": 0,
   "metadata": {
    "application/vnd.databricks.v1+cell": {
     "cellMetadata": {
      "byteLimit": 2048000,
      "rowLimit": 10000
     },
     "inputWidgets": {},
     "nuid": "cdf2966d-28dc-4739-9843-1ba750a57c6a",
     "showTitle": false,
     "tableResultSettingsMap": {},
     "title": ""
    }
   },
   "outputs": [],
   "source": [
    "df_original = df.count()\n",
    "display(df_original)\n",
    "df_cleansed = df_cleaned.count()\n",
    "display(df_cleansed)"
   ]
  },
  {
   "cell_type": "code",
   "execution_count": 0,
   "metadata": {
    "application/vnd.databricks.v1+cell": {
     "cellMetadata": {
      "byteLimit": 2048000,
      "rowLimit": 10000
     },
     "inputWidgets": {},
     "nuid": "03acd504-6de9-46ba-9e2b-2d592bf13793",
     "showTitle": false,
     "tableResultSettingsMap": {},
     "title": ""
    }
   },
   "outputs": [],
   "source": [
    "#Checking the number of unique values\n",
    "unique_count = df.select(col('account')).distinct().count()\n",
    "display(unique_count)"
   ]
  },
  {
   "cell_type": "markdown",
   "metadata": {
    "application/vnd.databricks.v1+cell": {
     "cellMetadata": {},
     "inputWidgets": {},
     "nuid": "46a9b400-d827-4e25-8c5c-16fd44e0dcd2",
     "showTitle": false,
     "tableResultSettingsMap": {},
     "title": ""
    }
   },
   "source": [
    "**GOLD LAYER**"
   ]
  },
  {
   "cell_type": "code",
   "execution_count": 0,
   "metadata": {
    "application/vnd.databricks.v1+cell": {
     "cellMetadata": {
      "byteLimit": 2048000,
      "rowLimit": 10000
     },
     "inputWidgets": {},
     "nuid": "fb31f5c2-1b16-4b50-8b9c-bcb028b63978",
     "showTitle": false,
     "tableResultSettingsMap": {},
     "title": ""
    }
   },
   "outputs": [],
   "source": [
    "# Exploratory Data Analysis (EDA)\n",
    "\n",
    "df_grouped = df_cleaned.groupBy(\"customer_id\").agg(\n",
    "    count(\"transaction_id\").alias(\"total_transactions\"),\n",
    "    avg(\"balance\").alias(\"avg_balance\"),\n",
    "    sum(\"amount\").alias(\"total_spent\")\n",
    ")\n",
    "display(df_grouped)"
   ]
  },
  {
   "cell_type": "markdown",
   "metadata": {
    "application/vnd.databricks.v1+cell": {
     "cellMetadata": {},
     "inputWidgets": {},
     "nuid": "ae8d0dcf-86f5-4047-865e-2c5e298511a9",
     "showTitle": false,
     "tableResultSettingsMap": {},
     "title": ""
    }
   },
   "source": [
    "DEBIT CARD AND CREDIT CARD"
   ]
  },
  {
   "cell_type": "code",
   "execution_count": 0,
   "metadata": {
    "application/vnd.databricks.v1+cell": {
     "cellMetadata": {
      "byteLimit": 2048000,
      "rowLimit": 10000
     },
     "inputWidgets": {},
     "nuid": "acc5effd-243b-4e44-96d1-3f5fe7cabf2f",
     "showTitle": false,
     "tableResultSettingsMap": {},
     "title": ""
    }
   },
   "outputs": [],
   "source": [
    "# Replace null values in 'card_present_flag' with 0\n",
    "df_cleaned = df_cleaned.fillna({\"card_present_flag\": 0})\n",
    "\n",
    "display(df_cleaned)"
   ]
  },
  {
   "cell_type": "code",
   "execution_count": 0,
   "metadata": {
    "application/vnd.databricks.v1+cell": {
     "cellMetadata": {
      "byteLimit": 2048000,
      "rowLimit": 10000
     },
     "inputWidgets": {},
     "nuid": "5a127dbd-19a0-42a6-8189-687ae8595f91",
     "showTitle": false,
     "tableResultSettingsMap": {},
     "title": ""
    }
   },
   "outputs": [],
   "source": [
    "#Total card Transactions\n",
    "\n",
    "\n",
    "# Count transactions by movement type (Debit/Credit)\n",
    "debit_credit_count = df_cleaned.groupBy(\"movement\").agg(count(\"*\").alias(\"transaction_count\"))\n",
    "\n",
    "# Sum transaction amounts by movement type\n",
    "debit_credit_amount = df_cleaned.groupBy(\"movement\").agg(sum(\"amount\").alias(\"total_amount\"))\n",
    "\n",
    "# Show results\n",
    "debit_credit_count.show()\n",
    "debit_credit_amount.show()\n"
   ]
  },
  {
   "cell_type": "code",
   "execution_count": 0,
   "metadata": {
    "application/vnd.databricks.v1+cell": {
     "cellMetadata": {
      "byteLimit": 2048000,
      "rowLimit": 10000
     },
     "inputWidgets": {},
     "nuid": "a13442f5-6b46-40fc-bb18-f285345f10dc",
     "showTitle": false,
     "tableResultSettingsMap": {},
     "title": ""
    }
   },
   "outputs": [],
   "source": [
    "#Average Transaction Amounts by Card Type\n",
    "from pyspark.sql.functions import mean\n",
    "\n",
    "# Calculate the average amount for debit and credit transactions\n",
    "avg_transaction = df_cleaned.groupBy(\"movement\").agg(mean(\"amount\").alias(\"avg_amount\"))\n",
    "\n",
    "# Show results\n",
    "avg_transaction.show()\n",
    "\n"
   ]
  },
  {
   "cell_type": "code",
   "execution_count": 0,
   "metadata": {
    "application/vnd.databricks.v1+cell": {
     "cellMetadata": {
      "byteLimit": 2048000,
      "rowLimit": 10000
     },
     "inputWidgets": {},
     "nuid": "4dc938ef-55c6-4753-9ccb-6f467ab690a8",
     "showTitle": false,
     "tableResultSettingsMap": {},
     "title": ""
    }
   },
   "outputs": [],
   "source": [
    "#Spending Trends Over Time\n",
    "\n",
    "from pyspark.sql.functions import to_date\n",
    "\n",
    "# Convert 'transaction_date' column to Date type (if it's not already)\n",
    "df_cleaned = df_cleaned.withColumn(\"date\", to_date(col(\"date\"), \"yyyy-MM-dd\"))\n",
    "\n",
    "# Aggregate total transaction amount per day\n",
    "daily_trend = df_cleaned.groupBy(\"date\", \"movement\").agg(sum(\"amount\").alias(\"total_amount\"))\n",
    "\n",
    "# Show results\n",
    "display(daily_trend)\n",
    "\n",
    "\n"
   ]
  },
  {
   "cell_type": "code",
   "execution_count": 0,
   "metadata": {
    "application/vnd.databricks.v1+cell": {
     "cellMetadata": {
      "byteLimit": 2048000,
      "rowLimit": 10000
     },
     "inputWidgets": {},
     "nuid": "3d28bbbe-57e2-4f69-b540-3e76fb90f447",
     "showTitle": false,
     "tableResultSettingsMap": {},
     "title": ""
    }
   },
   "outputs": [],
   "source": [
    "# Grouping transactions by movement, age, and gender\n",
    "age_gender_spending = df_cleaned.groupBy(\"movement\", \"age\", \"gender\").agg(sum(\"amount\").alias(\"total_spent\"))\n",
    "\n",
    "# Show results\n",
    "age_gender_spending.show()\n",
    "\n",
    "# Grouping transactions by movement and merchant\n",
    "merchant_spending = df_cleaned.groupBy(\"movement\", \"merchant_suburb\").agg(sum(\"amount\").alias(\"merchant_total\"))\n",
    "\n",
    "# Show results\n",
    "display(merchant_spending)\n"
   ]
  },
  {
   "cell_type": "code",
   "execution_count": 0,
   "metadata": {
    "application/vnd.databricks.v1+cell": {
     "cellMetadata": {
      "byteLimit": 2048000,
      "rowLimit": 10000
     },
     "inputWidgets": {},
     "nuid": "45220815-4dc0-4dec-8505-b3140cde4f7a",
     "showTitle": false,
     "tableResultSettingsMap": {},
     "title": ""
    }
   },
   "outputs": [],
   "source": [
    "#High-Value Transactions Detection\n",
    "# Find top 10 highest transactions\n",
    "high_value_transactions = df_cleaned.orderBy(col(\"amount\").desc()).limit(10)\n",
    "\n",
    "# Show results\n",
    "display(high_value_transactions)\n"
   ]
  },
  {
   "cell_type": "code",
   "execution_count": 0,
   "metadata": {
    "application/vnd.databricks.v1+cell": {
     "cellMetadata": {
      "byteLimit": 2048000,
      "rowLimit": 10000
     },
     "inputWidgets": {},
     "nuid": "5049851d-5353-453d-863f-223ad44b3379",
     "showTitle": false,
     "tableResultSettingsMap": {},
     "title": ""
    }
   },
   "outputs": [],
   "source": [
    "#Card Usage (Online vs. In-Store Transactions)\n",
    "\n",
    "\n",
    "# Group by movement and card_present_flag\n",
    "card_usage = df_cleaned.groupBy(\"movement\", \"card_present_flag\").agg(count(\"*\").alias(\"transaction_count\"))\n",
    "\n",
    "# Show results\n",
    "card_usage.show()"
   ]
  },
  {
   "cell_type": "code",
   "execution_count": 0,
   "metadata": {
    "application/vnd.databricks.v1+cell": {
     "cellMetadata": {
      "byteLimit": 2048000,
      "rowLimit": 10000
     },
     "inputWidgets": {},
     "nuid": "b393e004-39da-40b9-8969-a335f28818d2",
     "showTitle": false,
     "tableResultSettingsMap": {},
     "title": ""
    }
   },
   "outputs": [],
   "source": [
    "final_data = debit_credit_count \\\n",
    "    .join(debit_credit_amount, \"movement\", \"left\") \\\n",
    "    .join(avg_transaction, \"movement\", \"left\") \\\n",
    "    .join(age_gender_spending, \"movement\", \"left\") \\\n",
    "    .join(card_usage, \"movement\", \"left\")\n",
    "\n",
    "# Show the final merged data\n",
    "display(final_data)"
   ]
  },
  {
   "cell_type": "code",
   "execution_count": 0,
   "metadata": {
    "application/vnd.databricks.v1+cell": {
     "cellMetadata": {
      "byteLimit": 2048000,
      "rowLimit": 10000
     },
     "inputWidgets": {},
     "nuid": "e8239a13-c471-4739-928f-055dad11b984",
     "showTitle": false,
     "tableResultSettingsMap": {},
     "title": ""
    }
   },
   "outputs": [],
   "source": [
    "%python\n",
    "# Drop the existing column if it exists\n",
    "if \"transaction_count_new\" in final_data.columns:\n",
    "    final_data = final_data.drop(\"transaction_count_new\")\n",
    "\n",
    "# Rename the column\n",
    "final_data = final_data.withColumnRenamed(\"transaction_count\", \"transaction_count_new1\")\n",
    "\n",
    "# Write the DataFrame to the table\n",
    "final_data.write.format(\"delta\").mode(\"overwrite\").saveAsTable(\"data.default.anz_final\")\n"
   ]
  },
  {
   "cell_type": "code",
   "execution_count": 0,
   "metadata": {
    "application/vnd.databricks.v1+cell": {
     "cellMetadata": {
      "byteLimit": 2048000,
      "rowLimit": 10000
     },
     "inputWidgets": {},
     "nuid": "cadc227a-09a4-45d8-9a7a-6e93565d5300",
     "showTitle": false,
     "tableResultSettingsMap": {},
     "title": ""
    }
   },
   "outputs": [],
   "source": [
    "final = spark.sql(\"select * from data.default.anz_final\")\n",
    "display(final)"
   ]
  }
 ],
 "metadata": {
  "application/vnd.databricks.v1+notebook": {
   "computePreferences": null,
   "dashboards": [],
   "environmentMetadata": {
    "base_environment": "",
    "environment_version": "2"
   },
   "language": "python",
   "notebookMetadata": {
    "mostRecentlyExecutedCommandWithImplicitDF": {
     "commandId": 3804691307368685,
     "dataframes": [
      "_sqldf"
     ]
    },
    "pythonIndentUnit": 4
   },
   "notebookName": "(Clone) BANK_CUST_DATA",
   "widgets": {}
  },
  "language_info": {
   "name": "python"
  }
 },
 "nbformat": 4,
 "nbformat_minor": 0
}
